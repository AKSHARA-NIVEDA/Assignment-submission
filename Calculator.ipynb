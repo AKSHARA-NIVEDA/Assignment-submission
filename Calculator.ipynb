{
  "nbformat": 4,
  "nbformat_minor": 0,
  "metadata": {
    "colab": {
      "name": "Calculator.ipynb",
      "provenance": [],
      "collapsed_sections": [],
      "authorship_tag": "ABX9TyMyr5MCaZh0b/C6hPzUuvwD",
      "include_colab_link": true
    },
    "kernelspec": {
      "name": "python3",
      "display_name": "Python 3"
    },
    "language_info": {
      "name": "python"
    }
  },
  "cells": [
    {
      "cell_type": "markdown",
      "metadata": {
        "id": "view-in-github",
        "colab_type": "text"
      },
      "source": [
        "<a href=\"https://colab.research.google.com/github/AKSHARA-NIVEDA/Assignment-submission/blob/main/Calculator.ipynb\" target=\"_parent\"><img src=\"https://colab.research.google.com/assets/colab-badge.svg\" alt=\"Open In Colab\"/></a>"
      ]
    },
    {
      "cell_type": "code",
      "metadata": {
        "colab": {
          "base_uri": "https://localhost:8080/"
        },
        "id": "4l0yesn-XcFj",
        "outputId": "ce3f2a39-484e-4fbf-e3ae-2530f0306482"
      },
      "source": [
        "#CALCULATOR -AKSHARA NIVEDA M\n",
        "\n",
        "#subtraction \n",
        "\n",
        "a=int(input(\"First number - \"))\n",
        "b=int(input(\"Second number - \"))\n",
        "sub1=a-b\n",
        "print(\"The Subtraction is\",sub1)"
      ],
      "execution_count": null,
      "outputs": [
        {
          "output_type": "stream",
          "text": [
            "First number - 99\n",
            "Second number - 44\n",
            "The Subtraction is 55\n"
          ],
          "name": "stdout"
        }
      ]
    },
    {
      "cell_type": "code",
      "metadata": {
        "colab": {
          "base_uri": "https://localhost:8080/"
        },
        "id": "PMeWSrCvgTek",
        "outputId": "fab7cd92-e9dc-4542-bd02-550d241fa34f"
      },
      "source": [
        "#Multiplication\n",
        "\n",
        "a=int(input(\"First number - \"))\n",
        "b=int(input(\"Second number - \"))\n",
        "mul1=a*b\n",
        "print(\"The 1Multiplication is\",mul1)\n"
      ],
      "execution_count": null,
      "outputs": [
        {
          "output_type": "stream",
          "text": [
            "First number - 20\n",
            "Second number - 19\n",
            "The Multiplication is 380\n"
          ],
          "name": "stdout"
        }
      ]
    },
    {
      "cell_type": "code",
      "metadata": {
        "colab": {
          "base_uri": "https://localhost:8080/"
        },
        "id": "IiGWxH6xg7pS",
        "outputId": "26443f94-f24c-4f48-c96a-ee0a34274101"
      },
      "source": [
        "#Division\n",
        "\n",
        "a=int(input(\"First number -\"))\n",
        "b=int(input(\"Second number -\"))\n",
        "div1=a/b\n",
        "print(\"The Division is\",div1)\n"
      ],
      "execution_count": null,
      "outputs": [
        {
          "output_type": "stream",
          "text": [
            "First number -100\n",
            "Second number -20\n",
            "The Division is 5.0\n"
          ],
          "name": "stdout"
        }
      ]
    },
    {
      "cell_type": "code",
      "metadata": {
        "id": "Sq2qhDHnhkaS"
      },
      "source": [
        ""
      ],
      "execution_count": null,
      "outputs": []
    }
  ]
}