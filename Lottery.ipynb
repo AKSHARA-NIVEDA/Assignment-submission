{
  "nbformat": 4,
  "nbformat_minor": 0,
  "metadata": {
    "colab": {
      "name": "Lottery.ipynb",
      "provenance": [],
      "collapsed_sections": [],
      "authorship_tag": "ABX9TyPfIl/8R5ceE7LsphOGpOgz",
      "include_colab_link": true
    },
    "kernelspec": {
      "name": "python3",
      "display_name": "Python 3"
    },
    "language_info": {
      "name": "python"
    }
  },
  "cells": [
    {
      "cell_type": "markdown",
      "metadata": {
        "id": "view-in-github",
        "colab_type": "text"
      },
      "source": [
        "<a href=\"https://colab.research.google.com/github/AKSHARA-NIVEDA/Assignment-submission/blob/main/Lottery.ipynb\" target=\"_parent\"><img src=\"https://colab.research.google.com/assets/colab-badge.svg\" alt=\"Open In Colab\"/></a>"
      ]
    },
    {
      "cell_type": "code",
      "metadata": {
        "colab": {
          "base_uri": "https://localhost:8080/"
        },
        "id": "xKi5uUgXOZJq",
        "outputId": "1bae0c95-179e-43ad-92e5-8b5d1321dcf6"
      },
      "source": [
        "#Assignment 2 - AKSHARA NIVEDA M\n",
        "\n",
        "MaxTicketsAvailable=int(input(\"Total Number of Tickets - \"))\n",
        "participants=[]\n",
        "for i in range(MaxTicketsAvailable):\n",
        " participants.append(input(\"Name of the participant -\"))\n",
        "import random\n",
        "n=random.randint(0,MaxTicketsAvailable-1)\n",
        "\n",
        "print(\"The winner is - \",participants[n])"
      ],
      "execution_count": null,
      "outputs": [
        {
          "output_type": "stream",
          "text": [
            "Total Number of Tickets - 3\n",
            "Name of the participant -aa\n",
            "Name of the participant -bb\n",
            "Name of the participant -cc\n",
            "The winner is -  bb\n"
          ],
          "name": "stdout"
        }
      ]
    },
    {
      "cell_type": "code",
      "metadata": {
        "id": "r9Sk0RpgQWEK"
      },
      "source": [
        ""
      ],
      "execution_count": null,
      "outputs": []
    }
  ]
}