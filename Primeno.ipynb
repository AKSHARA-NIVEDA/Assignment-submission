{
  "nbformat": 4,
  "nbformat_minor": 0,
  "metadata": {
    "colab": {
      "name": "Primeno.ipynb",
      "provenance": [],
      "collapsed_sections": [],
      "authorship_tag": "ABX9TyMHDP1kKKQV+v4/l+r3KNFO",
      "include_colab_link": true
    },
    "kernelspec": {
      "name": "python3",
      "display_name": "Python 3"
    },
    "language_info": {
      "name": "python"
    }
  },
  "cells": [
    {
      "cell_type": "markdown",
      "metadata": {
        "id": "view-in-github",
        "colab_type": "text"
      },
      "source": [
        "<a href=\"https://colab.research.google.com/github/AKSHARA-NIVEDA/Assignment-submission/blob/main/Primeno.ipynb\" target=\"_parent\"><img src=\"https://colab.research.google.com/assets/colab-badge.svg\" alt=\"Open In Colab\"/></a>"
      ]
    },
    {
      "cell_type": "code",
      "metadata": {
        "id": "ZoC1ExoRZB9D"
      },
      "source": [
        "#Day - 5 : Assignment - 1 (AKSHARA NIVEDA M)\n"
      ],
      "execution_count": 1,
      "outputs": []
    },
    {
      "cell_type": "code",
      "metadata": {
        "colab": {
          "base_uri": "https://localhost:8080/"
        },
        "id": "TETDcCH04FeJ",
        "outputId": "5eb0e82c-b343-444e-dd03-b0128c8002e1"
      },
      "source": [
        "n = int(input(\"Enter a number : \"))  \n",
        "  \n",
        "if n > 1:  \n",
        "   for i in range(2,n):  \n",
        "       if (n % i) == 0:  \n",
        "           print(n,\"is not a prime number\")    \n",
        "           break  \n",
        "       else:  \n",
        "           print(n,\"is a prime number\")  \n",
        "         \n",
        "else:  \n",
        "   print(n,\"is not a prime number\")  "
      ],
      "execution_count": 4,
      "outputs": [
        {
          "output_type": "stream",
          "text": [
            "Enter a number : 1\n",
            "1 is not a prime number\n"
          ],
          "name": "stdout"
        }
      ]
    },
    {
      "cell_type": "code",
      "metadata": {
        "id": "HTe8CpHh4kfE"
      },
      "source": [
        ""
      ],
      "execution_count": 2,
      "outputs": []
    }
  ]
}