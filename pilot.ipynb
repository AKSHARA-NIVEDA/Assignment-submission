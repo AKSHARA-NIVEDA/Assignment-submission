{
  "nbformat": 4,
  "nbformat_minor": 0,
  "metadata": {
    "colab": {
      "name": "pilot.ipynb",
      "provenance": [],
      "collapsed_sections": [],
      "authorship_tag": "ABX9TyPSKXxPc84s3PxULWOXSqSf",
      "include_colab_link": true
    },
    "kernelspec": {
      "name": "python3",
      "display_name": "Python 3"
    },
    "language_info": {
      "name": "python"
    }
  },
  "cells": [
    {
      "cell_type": "markdown",
      "metadata": {
        "id": "view-in-github",
        "colab_type": "text"
      },
      "source": [
        "<a href=\"https://colab.research.google.com/github/AKSHARA-NIVEDA/Assignment-submission/blob/main/pilot.ipynb\" target=\"_parent\"><img src=\"https://colab.research.google.com/assets/colab-badge.svg\" alt=\"Open In Colab\"/></a>"
      ]
    },
    {
      "cell_type": "code",
      "metadata": {
        "id": "3IMA3U216WPQ"
      },
      "source": [
        " #Q #you have to land a plane, the altitude required for landing a plane is 1000ft,if it is less than that tell pilot to \"land plane\",\n",
        "    #or it is more than that but less than 5000ft ask the pilot to \"come down to 1000ft\",else if it is more than 5000ft ask the pilot \n",
        "     #to \"go around and try later\".\n"
      ],
      "execution_count": 1,
      "outputs": []
    },
    {
      "cell_type": "code",
      "metadata": {
        "colab": {
          "base_uri": "https://localhost:8080/"
        },
        "id": "ZPloXf3q8ckZ",
        "outputId": "d30f569c-2352-4d3b-c73c-eb37f9f63c9d"
      },
      "source": [
        "altitude=int(input(\"Enter the value of altitude(in ft)- \"))\n",
        "\n",
        "if altitude<=1000:\n",
        "  print(\"Land plane\")\n",
        "elif  altitude>1000 and altitude<=5000:\n",
        "  print(\"Come down to 1000ft\")\n",
        "else:\n",
        "  print(\"Go around and try later\")  "
      ],
      "execution_count": 6,
      "outputs": [
        {
          "output_type": "stream",
          "text": [
            "Enter the value of altitude(in ft)- 1500\n",
            "Come down to 1000ft\n"
          ],
          "name": "stdout"
        }
      ]
    },
    {
      "cell_type": "code",
      "metadata": {
        "id": "Odn9zzf__Diu"
      },
      "source": [
        ""
      ],
      "execution_count": 2,
      "outputs": []
    }
  ]
}